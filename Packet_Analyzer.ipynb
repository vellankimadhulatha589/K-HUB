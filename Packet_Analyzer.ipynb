{
  "nbformat": 4,
  "nbformat_minor": 0,
  "metadata": {
    "colab": {
      "provenance": [],
      "authorship_tag": "ABX9TyOgIY3aUqS5DAdV3uBrhMXk",
      "include_colab_link": true
    },
    "kernelspec": {
      "name": "python3",
      "display_name": "Python 3"
    },
    "language_info": {
      "name": "python"
    }
  },
  "cells": [
    {
      "cell_type": "markdown",
      "metadata": {
        "id": "view-in-github",
        "colab_type": "text"
      },
      "source": [
        "<a href=\"https://colab.research.google.com/github/vellankimadhulatha589/K-HUB/blob/main/Packet_Analyzer.ipynb\" target=\"_parent\"><img src=\"https://colab.research.google.com/assets/colab-badge.svg\" alt=\"Open In Colab\"/></a>"
      ]
    },
    {
      "cell_type": "code",
      "execution_count": 1,
      "metadata": {
        "colab": {
          "base_uri": "https://localhost:8080/"
        },
        "id": "cBoOcBC_SBo0",
        "outputId": "4f034e0d-53c9-4a8e-a092-784bca69d48a"
      },
      "outputs": [
        {
          "output_type": "stream",
          "name": "stdout",
          "text": [
            "Collecting scapy\n",
            "  Downloading scapy-2.5.0.tar.gz (1.3 MB)\n",
            "\u001b[2K     \u001b[90m━━━━━━━━━━━━━━━━━━━━━━━━━━━━━━━━━━━━━━━━\u001b[0m \u001b[32m1.3/1.3 MB\u001b[0m \u001b[31m7.6 MB/s\u001b[0m eta \u001b[36m0:00:00\u001b[0m\n",
            "\u001b[?25h  Preparing metadata (setup.py) ... \u001b[?25l\u001b[?25hdone\n",
            "Building wheels for collected packages: scapy\n",
            "  Building wheel for scapy (setup.py) ... \u001b[?25l\u001b[?25hdone\n",
            "  Created wheel for scapy: filename=scapy-2.5.0-py2.py3-none-any.whl size=1444325 sha256=1ac3fab4e06e37a7a81b34243c1b2b5fce477a8a5897923fbccbbd01dcec47d3\n",
            "  Stored in directory: /root/.cache/pip/wheels/82/b7/03/8344d8cf6695624746311bc0d389e9d05535ca83c35f90241d\n",
            "Successfully built scapy\n",
            "Installing collected packages: scapy\n",
            "Successfully installed scapy-2.5.0\n"
          ]
        }
      ],
      "source": [
        "pip install scapy"
      ]
    },
    {
      "cell_type": "code",
      "source": [
        "from scapy.all import sniff, Ether, IP\n",
        "\n",
        "def packet_callback(packet):\n",
        "    if Ether in packet and IP in packet:\n",
        "        source_ip = packet[IP].src\n",
        "        dest_ip = packet[IP].dst\n",
        "        protocol = packet[IP].proto\n",
        "        packet_length = len(packet)\n",
        "\n",
        "        print(f\"Source IP: {source_ip}, Destination IP: {dest_ip}, Protocol: {protocol}, Length: {packet_length}\")\n",
        "\n",
        "# Sniff packets on a specific network interface (e.g., 'eth0') for a certain number of packets (count)\n",
        "# or for a certain duration (timeout).\n",
        "sniff(iface='eth0', prn=packet_callback, count=10)"
      ],
      "metadata": {
        "colab": {
          "base_uri": "https://localhost:8080/"
        },
        "id": "48Plj0TzSQjT",
        "outputId": "9ee352f8-af9e-4c20-890a-e693120dd131"
      },
      "execution_count": 2,
      "outputs": [
        {
          "output_type": "stream",
          "name": "stdout",
          "text": [
            "Source IP: 172.28.0.12, Destination IP: 172.28.0.1, Protocol: 6, Length: 1250\n",
            "Source IP: 172.28.0.1, Destination IP: 172.28.0.12, Protocol: 6, Length: 66\n",
            "Source IP: 172.28.0.1, Destination IP: 172.28.0.12, Protocol: 6, Length: 922\n",
            "Source IP: 172.28.0.12, Destination IP: 172.28.0.1, Protocol: 6, Length: 66\n",
            "Source IP: 172.28.0.12, Destination IP: 172.28.0.1, Protocol: 6, Length: 1241\n",
            "Source IP: 172.28.0.1, Destination IP: 172.28.0.12, Protocol: 6, Length: 66\n",
            "Source IP: 172.28.0.1, Destination IP: 172.28.0.12, Protocol: 6, Length: 922\n",
            "Source IP: 172.28.0.12, Destination IP: 172.28.0.1, Protocol: 6, Length: 727\n",
            "Source IP: 172.28.0.1, Destination IP: 172.28.0.12, Protocol: 6, Length: 66\n",
            "Source IP: 172.28.0.1, Destination IP: 172.28.0.12, Protocol: 6, Length: 1026\n"
          ]
        },
        {
          "output_type": "execute_result",
          "data": {
            "text/plain": [
              "<Sniffed: TCP:10 UDP:0 ICMP:0 Other:0>"
            ]
          },
          "metadata": {},
          "execution_count": 2
        }
      ]
    }
  ]
}